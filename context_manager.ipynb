{
 "cells": [
  {
   "cell_type": "markdown",
   "metadata": {},
   "source": [
    "### context manager\n",
    "\n",
    "an object designed to be used in a with-statement. A context manager ensures that resources are property and automatically managed. \n",
    "\n",
    "with context-manager:\\\n",
    "    context-manager.begin()\\\n",
    "    body\\\n",
    "    context-manager.end()\\"
   ]
  },
  {
   "cell_type": "code",
   "execution_count": 5,
   "metadata": {},
   "outputs": [],
   "source": [
    "class LoggingContextManager:\n",
    "    def __enter__(self):\n",
    "        print('LoggingContextManager.__enter__()')\n",
    "        return 'You are in a with-block!'\n",
    "    def __exit__(self, exc_type, exc_val, exc_tb):\n",
    "        print('LoggingContextManager.__exit__({}, {}, {})'.format(exc_type, exc_val, exc_tb))\n",
    "        return"
   ]
  },
  {
   "cell_type": "code",
   "execution_count": 6,
   "metadata": {},
   "outputs": [
    {
     "name": "stdout",
     "output_type": "stream",
     "text": [
      "LoggingContextManager.__enter__()\n",
      "You are in a with-block!\n",
      "LoggingContextManager.__exit__(None, None, None)\n"
     ]
    }
   ],
   "source": [
    "with LoggingContextManager() as w:\n",
    "    print(w)"
   ]
  },
  {
   "cell_type": "markdown",
   "metadata": {},
   "source": [
    "Exception message is printed out after our __exit__ method. This is because we let the exception propagate out of with statement. REPL is printing its own information about exception. "
   ]
  },
  {
   "cell_type": "code",
   "execution_count": 7,
   "metadata": {},
   "outputs": [
    {
     "name": "stdout",
     "output_type": "stream",
     "text": [
      "LoggingContextManager.__enter__()\n",
      "LoggingContextManager.__exit__(<class 'ValueError'>, Something has gone wrong, <traceback object at 0x000001A09C967F08>)\n"
     ]
    },
    {
     "ename": "ValueError",
     "evalue": "Something has gone wrong",
     "output_type": "error",
     "traceback": [
      "\u001b[1;31m---------------------------------------------------------------------------\u001b[0m",
      "\u001b[1;31mValueError\u001b[0m                                Traceback (most recent call last)",
      "\u001b[1;32m<ipython-input-7-970a88a8ef2a>\u001b[0m in \u001b[0;36m<module>\u001b[1;34m\u001b[0m\n\u001b[0;32m      1\u001b[0m \u001b[1;32mwith\u001b[0m \u001b[0mLoggingContextManager\u001b[0m\u001b[1;33m(\u001b[0m\u001b[1;33m)\u001b[0m \u001b[1;32mas\u001b[0m \u001b[0mw\u001b[0m\u001b[1;33m:\u001b[0m\u001b[1;33m\u001b[0m\u001b[1;33m\u001b[0m\u001b[0m\n\u001b[1;32m----> 2\u001b[1;33m     \u001b[1;32mraise\u001b[0m \u001b[0mValueError\u001b[0m\u001b[1;33m(\u001b[0m\u001b[1;34m'Something has gone wrong'\u001b[0m\u001b[1;33m)\u001b[0m\u001b[1;33m\u001b[0m\u001b[1;33m\u001b[0m\u001b[0m\n\u001b[0m\u001b[0;32m      3\u001b[0m     \u001b[0mprint\u001b[0m\u001b[1;33m(\u001b[0m\u001b[0mw\u001b[0m\u001b[1;33m)\u001b[0m\u001b[1;33m\u001b[0m\u001b[1;33m\u001b[0m\u001b[0m\n",
      "\u001b[1;31mValueError\u001b[0m: Something has gone wrong"
     ]
    }
   ],
   "source": [
    "with LoggingContextManager() as w:\n",
    "    raise ValueError('Something has gone wrong')\n",
    "    print(w)"
   ]
  },
  {
   "cell_type": "markdown",
   "metadata": {},
   "source": [
    "__enter__()\n",
    "\n",
    "1. called before entering with statement body\n",
    "2. returned value bound to as variable\n",
    "3. can return value of any type\n",
    "4. commonly returns context manager itself"
   ]
  },
  {
   "cell_type": "markdown",
   "metadata": {},
   "source": [
    "__exit__()\n",
    "\n",
    "1. called when with statement body exits\n",
    "2. can check exception type for None to see if an exception was thrown\n",
    "3. should never explicitly reraise exceptions\n",
    "4. should only raise exceptions when it fails itself"
   ]
  },
  {
   "cell_type": "code",
   "execution_count": 8,
   "metadata": {},
   "outputs": [],
   "source": [
    "class LoggingContextManager:\n",
    "    def __enter__(self):\n",
    "        print('LoggingContextManager.__enter__()')\n",
    "        return 'You are in a with-block!'\n",
    "    \n",
    "    def __exit__(self, exc_type, exc_val, exc_tb):\n",
    "        if exc_type is None:\n",
    "            print('LoggingContextManager.__exit__:'\n",
    "                  'normal exit detected')\n",
    "        \n",
    "        else:\n",
    "            print('LoggingContextManager.__exit__:'\n",
    "                  'exception detected!'\n",
    "                  'type={}, value={}, traceback={}'.format(\n",
    "                   exc_type, exc_val, exc_tb))"
   ]
  },
  {
   "cell_type": "code",
   "execution_count": 9,
   "metadata": {},
   "outputs": [
    {
     "name": "stdout",
     "output_type": "stream",
     "text": [
      "LoggingContextManager.__enter__()\n",
      "You are in a with-block!\n",
      "LoggingContextManager.__exit__:normal exit detected\n"
     ]
    }
   ],
   "source": [
    "with LoggingContextManager() as w:\n",
    "    pass"
   ]
  },
  {
   "cell_type": "code",
   "execution_count": 11,
   "metadata": {},
   "outputs": [
    {
     "name": "stdout",
     "output_type": "stream",
     "text": [
      "LoggingContextManager.__enter__()\n",
      "LoggingContextManager.__exit__:exception detected!type=<class 'ValueError'>, value=That apple is poisonous!, traceback=<traceback object at 0x000001A09C972048>\n"
     ]
    },
    {
     "ename": "ValueError",
     "evalue": "That apple is poisonous!",
     "output_type": "error",
     "traceback": [
      "\u001b[1;31m---------------------------------------------------------------------------\u001b[0m",
      "\u001b[1;31mValueError\u001b[0m                                Traceback (most recent call last)",
      "\u001b[1;32m<ipython-input-11-fa889ef0f4ea>\u001b[0m in \u001b[0;36m<module>\u001b[1;34m\u001b[0m\n\u001b[0;32m      1\u001b[0m \u001b[1;32mwith\u001b[0m \u001b[0mLoggingContextManager\u001b[0m\u001b[1;33m(\u001b[0m\u001b[1;33m)\u001b[0m \u001b[1;32mas\u001b[0m \u001b[0mw\u001b[0m\u001b[1;33m:\u001b[0m\u001b[1;33m\u001b[0m\u001b[1;33m\u001b[0m\u001b[0m\n\u001b[1;32m----> 2\u001b[1;33m     \u001b[1;32mraise\u001b[0m \u001b[0mValueError\u001b[0m\u001b[1;33m(\u001b[0m\u001b[1;34m'That apple is poisonous!'\u001b[0m\u001b[1;33m)\u001b[0m\u001b[1;33m\u001b[0m\u001b[1;33m\u001b[0m\u001b[0m\n\u001b[0m",
      "\u001b[1;31mValueError\u001b[0m: That apple is poisonous!"
     ]
    }
   ],
   "source": [
    "with LoggingContextManager() as w:\n",
    "    raise ValueError('That apple is poisonous!')"
   ]
  },
  {
   "cell_type": "code",
   "execution_count": 12,
   "metadata": {},
   "outputs": [
    {
     "name": "stdout",
     "output_type": "stream",
     "text": [
      "LoggingContextManager.__enter__()\n",
      "LoggingContextManager.__exit__:exception detected!type=<class 'ValueError'>, value=That apple is poisonous!, traceback=<traceback object at 0x000001A09C96FEC8>\n",
      "ValueError detected!\n"
     ]
    }
   ],
   "source": [
    "# the default behavior of a context manager is to propagate exceptions\n",
    "try:\n",
    "    with LoggingContextManager() as w:\n",
    "        raise ValueError('That apple is poisonous!')\n",
    "except ValueError:\n",
    "    print('ValueError detected!')"
   ]
  },
  {
   "cell_type": "code",
   "execution_count": null,
   "metadata": {},
   "outputs": [],
   "source": [
    "mgr = (EXPR)\n",
    "\n",
    "exit = type(mgr).__exit__ # not calling it yet\n",
    "value = type(mgr).__enter__(mgr)\n",
    "exc = True\n",
    "\n",
    "try:\n",
    "    try:\n",
    "        VAR = value\n",
    "        BLOCK\n",
    "    except:\n",
    "        # the exception case is handled here\n",
    "        exc = False\n",
    "        if not exit(mgr, *sys.exit_info()):\n",
    "            raise\n",
    "        # the exception is swallowed if exit() returns True\n",
    "finally:\n",
    "    # the normal and non-local-goto cases are handled here\n",
    "    if exc:\n",
    "        exit(mgr, None, None, None)"
   ]
  },
  {
   "cell_type": "markdown",
   "metadata": {},
   "source": [
    "### contextlib\n",
    "\n",
    "1. standard library module for working with context managers\n",
    "2. provides utilities for common tasks involving the with statements\n",
    "\n",
    "### contextlib.contextmanager\n",
    "\n",
    "a decorator you can use to create context managers"
   ]
  },
  {
   "cell_type": "code",
   "execution_count": null,
   "metadata": {},
   "outputs": [],
   "source": [
    "@contextlib.contextmanager\n",
    "def my_context_manager():\n",
    "    # <enter>\n",
    "    try:\n",
    "        yield value\n",
    "        # <normal exit>\n",
    "    except:\n",
    "        raise \n",
    "        # <exceptional exit>"
   ]
  },
  {
   "cell_type": "code",
   "execution_count": null,
   "metadata": {},
   "outputs": [],
   "source": [
    "# multiple context managers\n",
    "with cm1 as a, cm2 as b:\n",
    "    BODY\n",
    "    \n",
    "with cm1 as a:\n",
    "    with cm2 as b:\n",
    "        BODY"
   ]
  },
  {
   "cell_type": "code",
   "execution_count": 14,
   "metadata": {},
   "outputs": [
    {
     "name": "stdout",
     "output_type": "stream",
     "text": [
      "Entering outer\n",
      "Entering inner\n",
      "BODY\n",
      "Exiting inner\n",
      "Exiting outer\n"
     ]
    }
   ],
   "source": [
    "import contextlib\n",
    "\n",
    "@contextlib.contextmanager\n",
    "def nest_test(name):\n",
    "    print('Entering', name)\n",
    "    yield\n",
    "    print('Exiting', name)\n",
    "    \n",
    "with nest_test('outer'):\n",
    "    with nest_test('inner'):\n",
    "        print('BODY')"
   ]
  },
  {
   "cell_type": "markdown",
   "metadata": {},
   "source": [
    "Exceptions thrown from inner context managers will be seen by outer context managers"
   ]
  },
  {
   "cell_type": "code",
   "execution_count": null,
   "metadata": {},
   "outputs": [],
   "source": []
  }
 ],
 "metadata": {
  "kernelspec": {
   "display_name": "Python 3",
   "language": "python",
   "name": "python3"
  },
  "language_info": {
   "codemirror_mode": {
    "name": "ipython",
    "version": 3
   },
   "file_extension": ".py",
   "mimetype": "text/x-python",
   "name": "python",
   "nbconvert_exporter": "python",
   "pygments_lexer": "ipython3",
   "version": "3.7.4"
  }
 },
 "nbformat": 4,
 "nbformat_minor": 2
}
