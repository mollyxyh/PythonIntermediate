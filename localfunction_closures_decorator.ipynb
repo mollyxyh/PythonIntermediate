{
 "cells": [
  {
   "cell_type": "markdown",
   "metadata": {},
   "source": [
    "### Local functions \n",
    "\n",
    "local functions are defined inside other functions and are created each time the enclosing function is called.\n",
    "\n",
    "1. local functions are subject to the same LEGB rule as regular functions, local -> enclosing -> global -> built-in\n",
    "2. local functions are not members of enclosing functions\n",
    "3. local functions are used for specialized, one-off functions\n",
    "4. they aid in code organization and readability\n",
    "5. they are similar to lambda, but more general"
   ]
  },
  {
   "cell_type": "code",
   "execution_count": 2,
   "metadata": {},
   "outputs": [],
   "source": [
    "store = []\n",
    "\n",
    "def sort_by_last_letter(strings):\n",
    "    def last_letter(string): \n",
    "        return string[-1]\n",
    "    \n",
    "    store.append(last_letter)\n",
    "    print(last_letter)\n",
    "    return sorted(strings, key=last_letter)"
   ]
  },
  {
   "cell_type": "code",
   "execution_count": 3,
   "metadata": {},
   "outputs": [
    {
     "name": "stdout",
     "output_type": "stream",
     "text": [
      "<function sort_by_last_letter.<locals>.last_letter at 0x000001D2F9081A68>\n"
     ]
    },
    {
     "data": {
      "text/plain": [
       "['abc', 'def', 'ghi']"
      ]
     },
     "execution_count": 3,
     "metadata": {},
     "output_type": "execute_result"
    }
   ],
   "source": [
    "sort_by_last_letter(['abc', 'def', 'ghi'])"
   ]
  },
  {
   "cell_type": "code",
   "execution_count": 4,
   "metadata": {},
   "outputs": [
    {
     "name": "stdout",
     "output_type": "stream",
     "text": [
      "<function sort_by_last_letter.<locals>.last_letter at 0x000001D2F9081948>\n"
     ]
    },
    {
     "data": {
      "text/plain": [
       "['abc', 'def', 'ghi']"
      ]
     },
     "execution_count": 4,
     "metadata": {},
     "output_type": "execute_result"
    }
   ],
   "source": [
    "sort_by_last_letter(['abc', 'def', 'ghi'])"
   ]
  },
  {
   "cell_type": "code",
   "execution_count": 5,
   "metadata": {},
   "outputs": [
    {
     "name": "stdout",
     "output_type": "stream",
     "text": [
      "<function sort_by_last_letter.<locals>.last_letter at 0x000001D2F9081798>\n"
     ]
    },
    {
     "data": {
      "text/plain": [
       "['abc', 'def', 'ghi']"
      ]
     },
     "execution_count": 5,
     "metadata": {},
     "output_type": "execute_result"
    }
   ],
   "source": [
    "sort_by_last_letter(['abc', 'def', 'ghi'])"
   ]
  },
  {
   "cell_type": "code",
   "execution_count": 6,
   "metadata": {},
   "outputs": [
    {
     "name": "stdout",
     "output_type": "stream",
     "text": [
      "global param local\n"
     ]
    }
   ],
   "source": [
    "g = 'global' # global\n",
    "\n",
    "def outer(p='param'):\n",
    "    l = 'local' # enclosing\n",
    "    def inner(): # local\n",
    "        print (g, p, l)\n",
    "    \n",
    "    inner()\n",
    "    \n",
    "outer()"
   ]
  },
  {
   "cell_type": "markdown",
   "metadata": {},
   "source": [
    "### Closure\n",
    "\n",
    "1. Once a local function is returned from its enclosing scope, that enclosing scope is gone, along with any local object it defined. How can a local function operation without that enclosing scope? The answer is local function forms what is known as a closure. \n",
    "\n",
    "2. A closure maintains reference to objects from earlier scopes.\n",
    "\n",
    "3. Python implements closure with a special attribute named __closure__. If a function closes over any objects, the next function has a __closure__ attribute, which maintains necassary reference to these objects.\n",
    "\n",
    "4. A common use for closure is function factories, which are functions that return new, specialized functions. In other words, the function factory takes some arguments, it then creates a local function, which takes its own argument but also uses the arguments passed to the factory. The combination of runtime function definition enclosures makes this possible. \n",
    "\n",
    "5. LEGB rule does not apply when we make new name bindings. "
   ]
  },
  {
   "cell_type": "code",
   "execution_count": 7,
   "metadata": {},
   "outputs": [
    {
     "name": "stdout",
     "output_type": "stream",
     "text": [
      "local func\n"
     ]
    }
   ],
   "source": [
    "# functions can be passed to or returned from another function\n",
    "# functions can be treated like any other object\n",
    "def enclosing():\n",
    "    def local_func():\n",
    "        print('local func')\n",
    "    return local_func\n",
    "\n",
    "f = enclosing()\n",
    "f()"
   ]
  },
  {
   "cell_type": "code",
   "execution_count": 8,
   "metadata": {},
   "outputs": [
    {
     "data": {
      "text/plain": [
       "7"
      ]
     },
     "execution_count": 8,
     "metadata": {},
     "output_type": "execute_result"
    }
   ],
   "source": [
    "def outer():\n",
    "    x = 3\n",
    "    def inner(y):\n",
    "        return x + y\n",
    "    return inner\n",
    "\n",
    "f = outer()\n",
    "f(4)"
   ]
  },
  {
   "cell_type": "code",
   "execution_count": 11,
   "metadata": {},
   "outputs": [
    {
     "name": "stdout",
     "output_type": "stream",
     "text": [
      "closed over\n"
     ]
    },
    {
     "data": {
      "text/plain": [
       "(<cell at 0x000001D2F90A25B8: str object at 0x000001D2F90BC130>,)"
      ]
     },
     "execution_count": 11,
     "metadata": {},
     "output_type": "execute_result"
    }
   ],
   "source": [
    "def enclosing():\n",
    "    x = 'closed over'\n",
    "    def local():\n",
    "        print (x)\n",
    "    return local\n",
    "\n",
    "l = enclosing()\n",
    "l()\n",
    "\n",
    "l.__closure__ # l is a closure, which is referring to a single object, which is x in this case."
   ]
  },
  {
   "cell_type": "code",
   "execution_count": 13,
   "metadata": {},
   "outputs": [
    {
     "name": "stdout",
     "output_type": "stream",
     "text": [
      "4\n",
      "8\n"
     ]
    }
   ],
   "source": [
    "def raise_to(exp): # function factories\n",
    "    def raise_to_exp(x):\n",
    "        return pow(x, exp)\n",
    "    return raise_to_exp\n",
    "\n",
    "square = raise_to(2)\n",
    "cube = raise_to(3)\n",
    "\n",
    "print(square(2))\n",
    "print(cube(2))"
   ]
  },
  {
   "cell_type": "code",
   "execution_count": 14,
   "metadata": {},
   "outputs": [
    {
     "name": "stdout",
     "output_type": "stream",
     "text": [
      "glocal message global\n",
      "enclosing message enclosing\n",
      "local\n",
      "enclosing message enclosing\n",
      "glocal message global\n"
     ]
    }
   ],
   "source": [
    "message = 'global'\n",
    "\n",
    "def enclosing():\n",
    "    message = 'enclosing'\n",
    "    def local():\n",
    "        message = 'local'\n",
    "        print(message)\n",
    "        \n",
    "    print('enclosing message', message)\n",
    "    local()\n",
    "    print('enclosing message', message)\n",
    "    \n",
    "print('glocal message', message)\n",
    "enclosing()\n",
    "print('glocal message', message)"
   ]
  },
  {
   "cell_type": "code",
   "execution_count": 16,
   "metadata": {},
   "outputs": [
    {
     "name": "stdout",
     "output_type": "stream",
     "text": [
      "glocal message global\n",
      "enclosing message enclosing\n",
      "local\n",
      "enclosing message enclosing\n",
      "glocal message local\n"
     ]
    }
   ],
   "source": [
    "message = 'global'\n",
    "\n",
    "def enclosing():\n",
    "    message = 'enclosing'\n",
    "    def local():\n",
    "        global message # glocal keyword can introduce glocal namespace into local namespace. \n",
    "        message = 'local'\n",
    "        print(message)\n",
    "        \n",
    "    print('enclosing message', message)\n",
    "    local()\n",
    "    print('enclosing message', message)\n",
    "    \n",
    "print('glocal message', message)\n",
    "enclosing()\n",
    "print('glocal message', message)"
   ]
  },
  {
   "cell_type": "code",
   "execution_count": 17,
   "metadata": {},
   "outputs": [
    {
     "name": "stdout",
     "output_type": "stream",
     "text": [
      "glocal message global\n",
      "enclosing message enclosing\n",
      "local\n",
      "enclosing message local\n",
      "glocal message global\n"
     ]
    }
   ],
   "source": [
    "message = 'global'\n",
    "\n",
    "def enclosing():\n",
    "    message = 'enclosing'\n",
    "    def local():\n",
    "        nonlocal message # nonlocal keyword can introduce names from enclosing namespace into local namespace. \n",
    "        message = 'local'\n",
    "        print(message)\n",
    "        \n",
    "    print('enclosing message', message)\n",
    "    local()\n",
    "    print('enclosing message', message)\n",
    "    \n",
    "print('glocal message', message)\n",
    "enclosing()\n",
    "print('glocal message', message)"
   ]
  },
  {
   "cell_type": "code",
   "execution_count": 19,
   "metadata": {},
   "outputs": [
    {
     "name": "stdout",
     "output_type": "stream",
     "text": [
      "None\n",
      "0.0\n",
      "0.0\n"
     ]
    }
   ],
   "source": [
    "import time\n",
    "\n",
    "def time_maker():\n",
    "    last_called = None\n",
    "    \n",
    "    def elapsed():\n",
    "        nonlocal last_called\n",
    "        now = time.time()\n",
    "        if not last_called:\n",
    "            last_called = now\n",
    "            return None\n",
    "        result = now - last_called\n",
    "        last_called = now\n",
    "        return result\n",
    "    \n",
    "    return elapsed\n",
    "\n",
    "t = time_maker()\n",
    "\n",
    "print(t())\n",
    "print(t())\n",
    "print(t())"
   ]
  },
  {
   "cell_type": "markdown",
   "metadata": {},
   "source": [
    "### Decorator\n",
    "\n",
    "1. Decorators can modify or enhance functions without changing their definitions. In python, decorators are callable objects that take in a callable and returns a callable.\n",
    "\n",
    "2. Classes and instances can be used as decorators.\n",
    "\n",
    "3. Multiple decorators are processed in reverse order.\n",
    "\n",
    "4. Naive decorators can lose important metadata. Functools.wraps() properly updates metadata on wrapped functions. Functools.wraps is a function decorator which you apply to your wrapper functions. The decorator takes the function to be decorated as an argument and it does the hard work of updating the wrapper function with the wrapped function's attributes.\n",
    "\n",
    "5. Decorators can enhance maintainability, readability and scalability of designs."
   ]
  },
  {
   "cell_type": "code",
   "execution_count": 22,
   "metadata": {},
   "outputs": [
    {
     "name": "stdout",
     "output_type": "stream",
     "text": [
      "'newyork'\n"
     ]
    },
    {
     "data": {
      "text/plain": [
       "\"'newyork'\""
      ]
     },
     "execution_count": 22,
     "metadata": {},
     "output_type": "execute_result"
    }
   ],
   "source": [
    "def escape_unicode(f): # f is a function to be decorated\n",
    "    def wrap(*args, **kwargs): # *args and **kwargs are used to accpet any number of parameters\n",
    "        x = f(*args, **kwargs)\n",
    "        return ascii(x) # escape non-ascii characters\n",
    "    return wrap\n",
    "\n",
    "print(northern_city())\n",
    "\n",
    "@escape_unicode\n",
    "def northern_city():\n",
    "    return 'newyork'\n",
    "\n",
    "northern_city()"
   ]
  },
  {
   "cell_type": "code",
   "execution_count": 23,
   "metadata": {},
   "outputs": [
    {
     "name": "stdout",
     "output_type": "stream",
     "text": [
      "Hello, Betty\n",
      "Hello, Ling\n",
      "Hello, Molly\n"
     ]
    },
    {
     "data": {
      "text/plain": [
       "3"
      ]
     },
     "execution_count": 23,
     "metadata": {},
     "output_type": "execute_result"
    }
   ],
   "source": [
    "# class as decorators\n",
    "class CallCount:\n",
    "    def __init__(self, f):\n",
    "        self.f = f\n",
    "        self.count = 0\n",
    "        \n",
    "    def __call__(self, *args, **kwargs): # instance must be callable and must supports __call__ method\n",
    "        self.count += 1\n",
    "        return self.f(*args, **kwargs)\n",
    "           \n",
    "@CallCount\n",
    "def hello(name): # applying class decorator creates a new instance\n",
    "    print('Hello, {}'.format(name))\n",
    "\n",
    "hello('Betty')\n",
    "hello('Ling')\n",
    "hello('Molly')\n",
    "\n",
    "hello.count"
   ]
  },
  {
   "cell_type": "code",
   "execution_count": 24,
   "metadata": {},
   "outputs": [
    {
     "name": "stdout",
     "output_type": "stream",
     "text": [
      "Calling <function rotate_string at 0x000001D2F916C0D8>\n",
      "Calling <function rotate_string at 0x000001D2F916C0D8>\n"
     ]
    },
    {
     "data": {
      "text/plain": [
       "[3, 1, 2]"
      ]
     },
     "execution_count": 24,
     "metadata": {},
     "output_type": "execute_result"
    }
   ],
   "source": [
    "# instance as decorators\n",
    "class Trace:\n",
    "    def __init__(self):\n",
    "        self.enabled = True\n",
    "        \n",
    "    def __call__(self, f): # the return value of call must be callables\n",
    "        def wrap(*args, **kwargs):\n",
    "            if self.enabled:\n",
    "                print('Calling {}'.format(f))\n",
    "            return f(*args, **kwargs)\n",
    "            \n",
    "        return wrap\n",
    "\n",
    "tracer = Trace()\n",
    "\n",
    "@tracer\n",
    "def rotate_string(string): # decorating with instance calls an instance\n",
    "    return string[1:] + [string[0]]\n",
    "\n",
    "l = [1, 2, 3]\n",
    "l = rotate_string(l)\n",
    "l = rotate_string(l)\n",
    "l"
   ]
  },
  {
   "cell_type": "code",
   "execution_count": 25,
   "metadata": {},
   "outputs": [
    {
     "data": {
      "text/plain": [
       "[2, 3, 1]"
      ]
     },
     "execution_count": 25,
     "metadata": {},
     "output_type": "execute_result"
    }
   ],
   "source": [
    "tracer.enabled = False\n",
    "l = rotate_string(l)\n",
    "l = rotate_string(l)\n",
    "l"
   ]
  },
  {
   "cell_type": "code",
   "execution_count": 27,
   "metadata": {},
   "outputs": [
    {
     "name": "stdout",
     "output_type": "stream",
     "text": [
      "Calling <function escape_unicode.<locals>.wrap at 0x000001D2F916CC18>\n"
     ]
    },
    {
     "data": {
      "text/plain": [
       "\"'python&y'\""
      ]
     },
     "execution_count": 27,
     "metadata": {},
     "output_type": "execute_result"
    }
   ],
   "source": [
    "def escape_unicode(f): # f is a function to be decorated\n",
    "    def wrap(*args, **kwargs): # *args and **kwargs are used to accpet any number of parameters\n",
    "        x = f(*args, **kwargs)\n",
    "        return ascii(x) # escape non-ascii characters\n",
    "    return wrap\n",
    "\n",
    "class Trace:\n",
    "    def __init__(self):\n",
    "        self.enabled = True\n",
    "        \n",
    "    def __call__(self, f): # the return value of call must be callables\n",
    "        def wrap(*args, **kwargs):\n",
    "            if self.enabled:\n",
    "                print('Calling {}'.format(f))\n",
    "            return f(*args, **kwargs)\n",
    "            \n",
    "        return wrap\n",
    "\n",
    "tracer = Trace()\n",
    "\n",
    "@tracer\n",
    "@escape_unicode\n",
    "def island_maker(name): # multiple decorators\n",
    "    return name + '&y'\n",
    "\n",
    "island_maker('python')"
   ]
  },
  {
   "cell_type": "code",
   "execution_count": 28,
   "metadata": {},
   "outputs": [
    {
     "data": {
      "text/plain": [
       "\"'anaconda&y'\""
      ]
     },
     "execution_count": 28,
     "metadata": {},
     "output_type": "execute_result"
    }
   ],
   "source": [
    "tracer.enabled = False\n",
    "island_maker('anaconda')"
   ]
  },
  {
   "cell_type": "code",
   "execution_count": 30,
   "metadata": {},
   "outputs": [
    {
     "name": "stdout",
     "output_type": "stream",
     "text": [
      "Calling <function IslandMaker.make_island at 0x000001D2F9159048>\n"
     ]
    },
    {
     "data": {
      "text/plain": [
       "'python Island'"
      ]
     },
     "execution_count": 30,
     "metadata": {},
     "output_type": "execute_result"
    }
   ],
   "source": [
    "class IslandMaker:\n",
    "    def __init__(self, suffix):\n",
    "        self.suffix = suffix\n",
    "        \n",
    "    @tracer\n",
    "    def make_island(self, name): # decorator on methods\n",
    "        return name + self.suffix\n",
    "    \n",
    "im = IslandMaker(' Island')\n",
    "tracer.enabled = True\n",
    "im.make_island('python')"
   ]
  },
  {
   "cell_type": "code",
   "execution_count": 32,
   "metadata": {},
   "outputs": [
    {
     "name": "stdout",
     "output_type": "stream",
     "text": [
      "hello\n",
      "print a well-known messgae\n",
      "Help on function hello in module __main__:\n",
      "\n",
      "hello()\n",
      "    print a well-known messgae\n",
      "\n"
     ]
    }
   ],
   "source": [
    "def hello():\n",
    "    '''print a well-known messgae'''\n",
    "    print('hello world')\n",
    "    \n",
    "print(hello.__name__)\n",
    "print(hello.__doc__)\n",
    "\n",
    "help(hello)"
   ]
  },
  {
   "cell_type": "code",
   "execution_count": 33,
   "metadata": {},
   "outputs": [
    {
     "name": "stdout",
     "output_type": "stream",
     "text": [
      "noop_wrapper\n",
      "None\n",
      "Help on function noop_wrapper in module __main__:\n",
      "\n",
      "noop_wrapper()\n",
      "\n"
     ]
    }
   ],
   "source": [
    "def noop(f):\n",
    "    def noop_wrapper():\n",
    "        return f()\n",
    "    return noop_wrapper\n",
    "\n",
    "@noop\n",
    "def hello():\n",
    "    '''print a well-known messgae'''\n",
    "    print('hello world')\n",
    "    \n",
    "print(hello.__name__)\n",
    "print(hello.__doc__)\n",
    "\n",
    "help(hello)"
   ]
  },
  {
   "cell_type": "code",
   "execution_count": 35,
   "metadata": {},
   "outputs": [
    {
     "name": "stdout",
     "output_type": "stream",
     "text": [
      "hello\n",
      "print a well-known messgae\n",
      "Help on function hello in module __main__:\n",
      "\n",
      "hello()\n",
      "    print a well-known messgae\n",
      "\n"
     ]
    }
   ],
   "source": [
    "def noop(f):\n",
    "    def noop_wrapper():\n",
    "        return f()\n",
    "    \n",
    "    # a bit ugly\n",
    "    noop_wrapper.__name__ = f.__name__\n",
    "    noop_wrapper.__doc__ = f.__doc__\n",
    "    \n",
    "    return noop_wrapper\n",
    "\n",
    "@noop\n",
    "def hello():\n",
    "    '''print a well-known messgae'''\n",
    "    print('hello world')\n",
    "    \n",
    "print(hello.__name__)\n",
    "print(hello.__doc__)\n",
    "\n",
    "help(hello)"
   ]
  },
  {
   "cell_type": "code",
   "execution_count": 36,
   "metadata": {},
   "outputs": [
    {
     "name": "stdout",
     "output_type": "stream",
     "text": [
      "hello\n",
      "print a well-known messgae\n",
      "Help on function hello in module __main__:\n",
      "\n",
      "hello()\n",
      "    print a well-known messgae\n",
      "\n"
     ]
    }
   ],
   "source": [
    "import functools\n",
    "\n",
    "def noop(f):\n",
    "    @functools.wraps(f)\n",
    "    def noop_wrapper():\n",
    "        return f()\n",
    "    return noop_wrapper\n",
    "\n",
    "@noop\n",
    "def hello():\n",
    "    '''print a well-known messgae'''\n",
    "    print('hello world')\n",
    "    \n",
    "print(hello.__name__)\n",
    "print(hello.__doc__)\n",
    "\n",
    "help(hello)"
   ]
  },
  {
   "cell_type": "code",
   "execution_count": 38,
   "metadata": {},
   "outputs": [
    {
     "ename": "ValueError",
     "evalue": "Argument 1 must be non-negative!",
     "output_type": "error",
     "traceback": [
      "\u001b[1;31m---------------------------------------------------------------------------\u001b[0m",
      "\u001b[1;31mValueError\u001b[0m                                Traceback (most recent call last)",
      "\u001b[1;32m<ipython-input-38-d8c852cb6024>\u001b[0m in \u001b[0;36m<module>\u001b[1;34m\u001b[0m\n\u001b[0;32m     12\u001b[0m     \u001b[1;32mreturn\u001b[0m \u001b[1;33m[\u001b[0m\u001b[0mval\u001b[0m\u001b[1;33m]\u001b[0m \u001b[1;33m*\u001b[0m \u001b[0msize\u001b[0m\u001b[1;33m\u001b[0m\u001b[1;33m\u001b[0m\u001b[0m\n\u001b[0;32m     13\u001b[0m \u001b[1;33m\u001b[0m\u001b[0m\n\u001b[1;32m---> 14\u001b[1;33m \u001b[0mcreate_list\u001b[0m\u001b[1;33m(\u001b[0m\u001b[1;36m3\u001b[0m\u001b[1;33m,\u001b[0m \u001b[1;33m-\u001b[0m\u001b[1;36m2\u001b[0m\u001b[1;33m)\u001b[0m\u001b[1;33m\u001b[0m\u001b[1;33m\u001b[0m\u001b[0m\n\u001b[0m",
      "\u001b[1;32m<ipython-input-38-d8c852cb6024>\u001b[0m in \u001b[0;36mwrapper\u001b[1;34m(*args)\u001b[0m\n\u001b[0;32m      3\u001b[0m         \u001b[1;32mdef\u001b[0m \u001b[0mwrapper\u001b[0m\u001b[1;33m(\u001b[0m\u001b[1;33m*\u001b[0m\u001b[0margs\u001b[0m\u001b[1;33m)\u001b[0m\u001b[1;33m:\u001b[0m\u001b[1;33m\u001b[0m\u001b[1;33m\u001b[0m\u001b[0m\n\u001b[0;32m      4\u001b[0m             \u001b[1;32mif\u001b[0m \u001b[0margs\u001b[0m\u001b[1;33m[\u001b[0m\u001b[0mindex\u001b[0m\u001b[1;33m]\u001b[0m \u001b[1;33m<\u001b[0m \u001b[1;36m0\u001b[0m\u001b[1;33m:\u001b[0m\u001b[1;33m\u001b[0m\u001b[1;33m\u001b[0m\u001b[0m\n\u001b[1;32m----> 5\u001b[1;33m                 \u001b[1;32mraise\u001b[0m \u001b[0mValueError\u001b[0m\u001b[1;33m(\u001b[0m\u001b[1;34m'Argument {} must be non-negative!'\u001b[0m\u001b[1;33m.\u001b[0m\u001b[0mformat\u001b[0m\u001b[1;33m(\u001b[0m\u001b[0mindex\u001b[0m\u001b[1;33m)\u001b[0m\u001b[1;33m)\u001b[0m\u001b[1;33m\u001b[0m\u001b[1;33m\u001b[0m\u001b[0m\n\u001b[0m\u001b[0;32m      6\u001b[0m             \u001b[1;32mreturn\u001b[0m \u001b[0mf\u001b[0m\u001b[1;33m(\u001b[0m\u001b[1;33m*\u001b[0m\u001b[0margs\u001b[0m\u001b[1;33m)\u001b[0m\u001b[1;33m\u001b[0m\u001b[1;33m\u001b[0m\u001b[0m\n\u001b[0;32m      7\u001b[0m         \u001b[1;32mreturn\u001b[0m \u001b[0mwrapper\u001b[0m\u001b[1;33m\u001b[0m\u001b[1;33m\u001b[0m\u001b[0m\n",
      "\u001b[1;31mValueError\u001b[0m: Argument 1 must be non-negative!"
     ]
    }
   ],
   "source": [
    "def check_non_negative(index): # not a decorator\n",
    "    def validator(f): # decorator that takes callable as an argument and returns callables\n",
    "        def wrapper(*args):\n",
    "            if args[index] < 0:\n",
    "                raise ValueError('Argument {} must be non-negative!'.format(index))\n",
    "            return f(*args)\n",
    "        return wrapper\n",
    "    return validator\n",
    "\n",
    "@check_non_negative(1)\n",
    "def create_list(val, size):\n",
    "    return [val] * size\n",
    "\n",
    "create_list(3, -2)"
   ]
  },
  {
   "cell_type": "code",
   "execution_count": null,
   "metadata": {},
   "outputs": [],
   "source": []
  }
 ],
 "metadata": {
  "kernelspec": {
   "display_name": "Python 3",
   "language": "python",
   "name": "python3"
  },
  "language_info": {
   "codemirror_mode": {
    "name": "ipython",
    "version": 3
   },
   "file_extension": ".py",
   "mimetype": "text/x-python",
   "name": "python",
   "nbconvert_exporter": "python",
   "pygments_lexer": "ipython3",
   "version": "3.7.4"
  }
 },
 "nbformat": 4,
 "nbformat_minor": 2
}
