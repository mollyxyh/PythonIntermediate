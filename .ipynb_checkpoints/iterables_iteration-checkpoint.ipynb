{
 "cells": [
  {
   "cell_type": "markdown",
   "metadata": {},
   "source": [
    " 1. map() function applies a function to each element in a sequence, producing a new sequence, and is lazily evaludated (it doesnt produce any output until it's needed. The map object returned by map function is itself an iterator object and by iterating over it can you start to get output. Map's lazy evaluation requires you to iterate all return values in order to actually produce the output sequence.\n",
    " 2. When the input sequences are not of the same size, map() will terminate as soon as any of the input sequences is terminated.\n",
    " 3. filter() applies a function to each element in a sequence, producing a new sequence with elements for which the function returns True.\n",
    " 4. Pass None to the first argument of filter will remove elements which evaluate to False.\n",
    " 5. functools.reduce() repeatedly applies a function to elements of a sequence, reducing them to a single value.\n",
    " 6. Optional initial value is conceptually added to the first of the input sequence.\n",
    " 7. Mapreduce"
   ]
  },
  {
   "cell_type": "code",
   "execution_count": 1,
   "metadata": {},
   "outputs": [
    {
     "data": {
      "text/plain": [
       "<map at 0x228ff62e2c8>"
      ]
     },
     "execution_count": 1,
     "metadata": {},
     "output_type": "execute_result"
    }
   ],
   "source": [
    "map(ord, 'a quick brown fox') # a map object is returned instead of a list"
   ]
  },
  {
   "cell_type": "code",
   "execution_count": 2,
   "metadata": {},
   "outputs": [],
   "source": [
    "class Trace:\n",
    "    def __init__(self):\n",
    "        self.enabled = True\n",
    "    def __call__(self, f):\n",
    "        def wrapper(*args, **kwargs):\n",
    "            if self.enabled:\n",
    "                print('Calling {}'.format(f))\n",
    "            return f(*args, **kwargs)\n",
    "        return wrapper"
   ]
  },
  {
   "cell_type": "code",
   "execution_count": 4,
   "metadata": {},
   "outputs": [
    {
     "name": "stdout",
     "output_type": "stream",
     "text": [
      "Calling <built-in function ord>\n",
      "Calling <built-in function ord>\n",
      "Calling <built-in function ord>\n"
     ]
    },
    {
     "data": {
      "text/plain": [
       "113"
      ]
     },
     "execution_count": 4,
     "metadata": {},
     "output_type": "execute_result"
    }
   ],
   "source": [
    "result = map(Trace()(ord), 'a quick brown fox')\n",
    "\n",
    "next(result)\n",
    "next(result)\n",
    "next(result)"
   ]
  },
  {
   "cell_type": "code",
   "execution_count": 5,
   "metadata": {},
   "outputs": [
    {
     "data": {
      "text/plain": [
       "['small lavender cat', 'medium teal dog', 'large burnt orange rabbit']"
      ]
     },
     "execution_count": 5,
     "metadata": {},
     "output_type": "execute_result"
    }
   ],
   "source": [
    "# multiple input sequences\n",
    "sizes = ['small', 'medium', 'large']\n",
    "colors = ['lavender', 'teal', 'burnt orange']\n",
    "animals = ['cat', 'dog', 'rabbit']\n",
    "\n",
    "def combine(size, color, animal):\n",
    "    return '{} {} {}'.format(size, color, animal)\n",
    "\n",
    "list(map(combine, sizes, colors, animals)) # use list constructor to force evaluation"
   ]
  },
  {
   "cell_type": "code",
   "execution_count": 7,
   "metadata": {},
   "outputs": [
    {
     "data": {
      "text/plain": [
       "['0 X small lavender cat',\n",
       " '1 X medium teal dog',\n",
       " '2 X large burnt orange rabbit']"
      ]
     },
     "execution_count": 7,
     "metadata": {},
     "output_type": "execute_result"
    }
   ],
   "source": [
    "import itertools\n",
    "\n",
    "def combine(quantity, size, color, animal):\n",
    "    return '{} X {} {} {}'.format(quantity, size, color, animal)\n",
    "\n",
    "list(map(combine, itertools.count(), sizes, colors, animals))"
   ]
  },
  {
   "cell_type": "code",
   "execution_count": 8,
   "metadata": {},
   "outputs": [
    {
     "name": "stdout",
     "output_type": "stream",
     "text": [
      "['0', '1', '2', '3', '4']\n",
      "['0', '1', '2', '3', '4']\n"
     ]
    }
   ],
   "source": [
    "print(list((str(i) for i in range(5)))) # comprehension\n",
    "\n",
    "print(list(map(str, range(5)))) # map function"
   ]
  },
  {
   "cell_type": "code",
   "execution_count": 9,
   "metadata": {},
   "outputs": [
    {
     "data": {
      "text/plain": [
       "<filter at 0x228ff64fd88>"
      ]
     },
     "execution_count": 9,
     "metadata": {},
     "output_type": "execute_result"
    }
   ],
   "source": [
    "positives = filter(lambda x: x > 0, [1, -5, 0, 6, -2, 8])\n",
    "positives # lazy iterable"
   ]
  },
  {
   "cell_type": "code",
   "execution_count": 10,
   "metadata": {},
   "outputs": [
    {
     "data": {
      "text/plain": [
       "[1, True, [1, 2, 3], 'hello']"
      ]
     },
     "execution_count": 10,
     "metadata": {},
     "output_type": "execute_result"
    }
   ],
   "source": [
    "# pass None to the first argument of filter will remove elements which evaluate to False\n",
    "trues = filter(None, [0, 1, False, True, [], [1,2,3], '', 'hello'])\n",
    "list(trues)"
   ]
  },
  {
   "cell_type": "code",
   "execution_count": 11,
   "metadata": {},
   "outputs": [
    {
     "data": {
      "text/plain": [
       "10"
      ]
     },
     "execution_count": 11,
     "metadata": {},
     "output_type": "execute_result"
    }
   ],
   "source": [
    "from functools import reduce\n",
    "import operator\n",
    "reduce(operator.add, [1, 2, 3, 4])"
   ]
  },
  {
   "cell_type": "code",
   "execution_count": 13,
   "metadata": {},
   "outputs": [
    {
     "name": "stdout",
     "output_type": "stream",
     "text": [
      "mul 1 2\n",
      "mul 2 3\n",
      "mul 6 4\n",
      "mul 24 5\n",
      "mul 120 6\n",
      "mul 720 7\n",
      "mul 5040 8\n",
      "mul 40320 9\n"
     ]
    },
    {
     "data": {
      "text/plain": [
       "362880"
      ]
     },
     "execution_count": 13,
     "metadata": {},
     "output_type": "execute_result"
    }
   ],
   "source": [
    "def mul(x, y):\n",
    "    print('mul {} {}'.format(x, y))\n",
    "    return x * y\n",
    "\n",
    "reduce(mul, range(1, 10))"
   ]
  },
  {
   "cell_type": "code",
   "execution_count": 15,
   "metadata": {},
   "outputs": [
    {
     "name": "stdout",
     "output_type": "stream",
     "text": [
      "0\n",
      "1\n"
     ]
    }
   ],
   "source": [
    "print(reduce(operator.add, [], 0))\n",
    "print(reduce(operator.add, [], 1))"
   ]
  },
  {
   "cell_type": "code",
   "execution_count": 18,
   "metadata": {},
   "outputs": [
    {
     "data": {
      "text/plain": [
       "{'it': 2, 'was': 2, 'the': 2, 'best': 1, 'of': 2, 'times': 2, 'worst': 1}"
      ]
     },
     "execution_count": 18,
     "metadata": {},
     "output_type": "execute_result"
    }
   ],
   "source": [
    "def count_words(doc):\n",
    "    doc_normalized = ''.join(c.lower() if c.isalpha() else ' ' for c in doc)\n",
    "    frequencies = {}\n",
    "    for word in doc_normalized.split():\n",
    "        frequencies[word] = frequencies.get(word, 0) + 1\n",
    "    return frequencies\n",
    "\n",
    "count_words('It was the best of times, it was the worst of times.')"
   ]
  },
  {
   "cell_type": "code",
   "execution_count": 20,
   "metadata": {},
   "outputs": [],
   "source": [
    "# MapReduce\n",
    "documents = ['it was the best of times, it was the worst of times.',\n",
    "             'The elements of statistical learning',\n",
    "             'pattern recognition and machine learning']\n",
    "\n",
    "counts = map(count_words, documents)\n",
    "\n",
    "def combine_counts(d1, d2):\n",
    "    d = d1.copy()\n",
    "    for word, count in d2.items():\n",
    "        d[word] = d.get(word, 0) + count\n",
    "    return d\n",
    "\n",
    "total_counts = reduce(combine_counts, counts)"
   ]
  },
  {
   "cell_type": "code",
   "execution_count": 21,
   "metadata": {},
   "outputs": [
    {
     "data": {
      "text/plain": [
       "{'it': 2,\n",
       " 'was': 2,\n",
       " 'the': 3,\n",
       " 'best': 1,\n",
       " 'of': 3,\n",
       " 'times': 2,\n",
       " 'worst': 1,\n",
       " 'elements': 1,\n",
       " 'statistical': 1,\n",
       " 'learning': 2,\n",
       " 'pattern': 1,\n",
       " 'recognition': 1,\n",
       " 'and': 1,\n",
       " 'machine': 1}"
      ]
     },
     "execution_count": 21,
     "metadata": {},
     "output_type": "execute_result"
    }
   ],
   "source": [
    "total_counts"
   ]
  },
  {
   "cell_type": "markdown",
   "metadata": {},
   "source": [
    "### Python Iteration\n",
    "\n",
    "1. iter(): creates an iterator\n",
    "2. next(): gets the next element in sequence\n",
    "3. StopIteration: signals the end of sequence\n",
    "\n",
    "4. Iterable object is an object which implements __iter__() method\n",
    "5. Iterator object is an object which implements iterable protocol and which implements __next__() method\n",
    "6. The alternative iterable protocol works with any object that supports consecutive integer indexing via __getitem__()"
   ]
  },
  {
   "cell_type": "code",
   "execution_count": 24,
   "metadata": {},
   "outputs": [],
   "source": [
    "class ExampleIterator:\n",
    "    def __init__(self):\n",
    "        self.index = 0\n",
    "        self.data = [1, 2, 3]\n",
    "        \n",
    "    def __iter__(self):\n",
    "        return self\n",
    "    \n",
    "    def __next__(self):\n",
    "        if self.index >= len(self.data):\n",
    "            raise StopIteration()\n",
    "        result = self.index\n",
    "        self.index += 1 \n",
    "        return result"
   ]
  },
  {
   "cell_type": "code",
   "execution_count": 25,
   "metadata": {},
   "outputs": [
    {
     "name": "stdout",
     "output_type": "stream",
     "text": [
      "<__main__.ExampleIterable object at 0x00000228FF6EA9C8>\n",
      "0\n",
      "1\n",
      "2\n"
     ]
    },
    {
     "ename": "StopIteration",
     "evalue": "",
     "output_type": "error",
     "traceback": [
      "\u001b[1;31m---------------------------------------------------------------------------\u001b[0m",
      "\u001b[1;31mStopIteration\u001b[0m                             Traceback (most recent call last)",
      "\u001b[1;32m<ipython-input-25-337489bcb000>\u001b[0m in \u001b[0;36m<module>\u001b[1;34m\u001b[0m\n\u001b[0;32m      4\u001b[0m \u001b[0mprint\u001b[0m\u001b[1;33m(\u001b[0m\u001b[0mnext\u001b[0m\u001b[1;33m(\u001b[0m\u001b[0mi\u001b[0m\u001b[1;33m)\u001b[0m\u001b[1;33m)\u001b[0m\u001b[1;33m\u001b[0m\u001b[1;33m\u001b[0m\u001b[0m\n\u001b[0;32m      5\u001b[0m \u001b[0mprint\u001b[0m\u001b[1;33m(\u001b[0m\u001b[0mnext\u001b[0m\u001b[1;33m(\u001b[0m\u001b[0mi\u001b[0m\u001b[1;33m)\u001b[0m\u001b[1;33m)\u001b[0m\u001b[1;33m\u001b[0m\u001b[1;33m\u001b[0m\u001b[0m\n\u001b[1;32m----> 6\u001b[1;33m \u001b[0mprint\u001b[0m\u001b[1;33m(\u001b[0m\u001b[0mnext\u001b[0m\u001b[1;33m(\u001b[0m\u001b[0mi\u001b[0m\u001b[1;33m)\u001b[0m\u001b[1;33m)\u001b[0m\u001b[1;33m\u001b[0m\u001b[1;33m\u001b[0m\u001b[0m\n\u001b[0m",
      "\u001b[1;32m<ipython-input-24-64f576e05f34>\u001b[0m in \u001b[0;36m__next__\u001b[1;34m(self)\u001b[0m\n\u001b[0;32m      9\u001b[0m     \u001b[1;32mdef\u001b[0m \u001b[0m__next__\u001b[0m\u001b[1;33m(\u001b[0m\u001b[0mself\u001b[0m\u001b[1;33m)\u001b[0m\u001b[1;33m:\u001b[0m\u001b[1;33m\u001b[0m\u001b[1;33m\u001b[0m\u001b[0m\n\u001b[0;32m     10\u001b[0m         \u001b[1;32mif\u001b[0m \u001b[0mself\u001b[0m\u001b[1;33m.\u001b[0m\u001b[0mindex\u001b[0m \u001b[1;33m>=\u001b[0m \u001b[0mlen\u001b[0m\u001b[1;33m(\u001b[0m\u001b[0mself\u001b[0m\u001b[1;33m.\u001b[0m\u001b[0mdata\u001b[0m\u001b[1;33m)\u001b[0m\u001b[1;33m:\u001b[0m\u001b[1;33m\u001b[0m\u001b[1;33m\u001b[0m\u001b[0m\n\u001b[1;32m---> 11\u001b[1;33m             \u001b[1;32mraise\u001b[0m \u001b[0mStopIteration\u001b[0m\u001b[1;33m(\u001b[0m\u001b[1;33m)\u001b[0m\u001b[1;33m\u001b[0m\u001b[1;33m\u001b[0m\u001b[0m\n\u001b[0m\u001b[0;32m     12\u001b[0m         \u001b[0mresult\u001b[0m \u001b[1;33m=\u001b[0m \u001b[0mself\u001b[0m\u001b[1;33m.\u001b[0m\u001b[0mindex\u001b[0m\u001b[1;33m\u001b[0m\u001b[1;33m\u001b[0m\u001b[0m\n\u001b[0;32m     13\u001b[0m         \u001b[0mself\u001b[0m\u001b[1;33m.\u001b[0m\u001b[0mindex\u001b[0m \u001b[1;33m+=\u001b[0m \u001b[1;36m1\u001b[0m\u001b[1;33m\u001b[0m\u001b[1;33m\u001b[0m\u001b[0m\n",
      "\u001b[1;31mStopIteration\u001b[0m: "
     ]
    }
   ],
   "source": [
    "i = ExampleIterator()\n",
    "print(i)\n",
    "print(next(i))\n",
    "print(next(i))\n",
    "print(next(i))\n",
    "print(next(i))"
   ]
  },
  {
   "cell_type": "code",
   "execution_count": 26,
   "metadata": {},
   "outputs": [
    {
     "name": "stdout",
     "output_type": "stream",
     "text": [
      "0\n",
      "1\n",
      "2\n"
     ]
    }
   ],
   "source": [
    "for i in ExampleIterator():\n",
    "    print(i)"
   ]
  },
  {
   "cell_type": "code",
   "execution_count": 28,
   "metadata": {},
   "outputs": [
    {
     "data": {
      "text/plain": [
       "[1, 2, 3]"
      ]
     },
     "execution_count": 28,
     "metadata": {},
     "output_type": "execute_result"
    }
   ],
   "source": [
    "class ExampleIterator:\n",
    "    def __init__(self, data):\n",
    "        self.index = 0\n",
    "        self.data = data\n",
    "        \n",
    "    def __iter__(self):\n",
    "        return self\n",
    "    \n",
    "    def __next__(self):\n",
    "        if self.index >= len(self.data):\n",
    "            raise StopIteration()\n",
    "        result = self.data[self.index]\n",
    "        self.index += 1 \n",
    "        return result\n",
    "    \n",
    "class ExampleIterable:\n",
    "    def __init__(self):\n",
    "        self.data = [1, 2, 3]\n",
    "        \n",
    "    def __iter__(self):\n",
    "        return ExampleIterator(self.data)\n",
    "    \n",
    "[i for i in ExampleIterable()]"
   ]
  },
  {
   "cell_type": "code",
   "execution_count": 30,
   "metadata": {},
   "outputs": [
    {
     "data": {
      "text/plain": [
       "[1, 2, 3]"
      ]
     },
     "execution_count": 30,
     "metadata": {},
     "output_type": "execute_result"
    }
   ],
   "source": [
    "class AlternativeIterable:\n",
    "    def __init__(self):\n",
    "        self.data = [1, 2, 3]\n",
    "        \n",
    "    def __getitem__(self, idx):\n",
    "        return self.data[idx]\n",
    "    \n",
    "[i for i in AlternativeIterable()]"
   ]
  },
  {
   "cell_type": "code",
   "execution_count": 32,
   "metadata": {},
   "outputs": [
    {
     "name": "stdout",
     "output_type": "stream",
     "text": [
      "2020-11-09 14:47:35.317864\n",
      "2020-11-09 14:47:35.317864\n",
      "2020-11-09 14:47:35.317864\n"
     ]
    }
   ],
   "source": [
    "import datetime\n",
    "\n",
    "i = iter(datetime.datetime.now, None) # iterator will never terminate as datetime will never return None\n",
    "\n",
    "print(next(i))\n",
    "print(next(i))\n",
    "print(next(i))"
   ]
  },
  {
   "cell_type": "markdown",
   "metadata": {},
   "source": [
    "1. Iterator protocol: iterator.__next__()\n",
    "2. Iterable protocol: iterable.__iter__(); iterable.__getitem__(index)\n",
    "3. Iterable from callable: iter(callable, sentinel)"
   ]
  },
  {
   "cell_type": "code",
   "execution_count": null,
   "metadata": {},
   "outputs": [],
   "source": []
  }
 ],
 "metadata": {
  "kernelspec": {
   "display_name": "Python 3",
   "language": "python",
   "name": "python3"
  },
  "language_info": {
   "codemirror_mode": {
    "name": "ipython",
    "version": 3
   },
   "file_extension": ".py",
   "mimetype": "text/x-python",
   "name": "python",
   "nbconvert_exporter": "python",
   "pygments_lexer": "ipython3",
   "version": "3.7.4"
  }
 },
 "nbformat": 4,
 "nbformat_minor": 2
}
