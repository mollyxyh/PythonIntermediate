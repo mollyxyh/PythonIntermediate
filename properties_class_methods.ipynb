{
 "cells": [
  {
   "cell_type": "markdown",
   "metadata": {},
   "source": [
    "\n",
    "1. class attributes vs instance attributes\n",
    "2. static method vs class method\n",
    "1) static method: no access to either class or instance needed; may be able to be moved to become a module-scope function\n",
    "2) class method: access required to the class objects to call other class methods or constructors\n",
    "3. encapsulation using @property decorator"
   ]
  },
  {
   "cell_type": "code",
   "execution_count": 1,
   "metadata": {},
   "outputs": [],
   "source": [
    "class ShippingContainer:\n",
    "    \n",
    "    next_serial = 1337 # class attributes\n",
    "    \n",
    "    def __init__(self, owner_code, contents):\n",
    "        self.owner_code = owner_code # instance attributes\n",
    "        self.contents = contents # instance attributes\n",
    "        self.serial = ShippingContainer.next_serial #class attribute in global/modual scope\n",
    "        ShippingContainer.next_serial += 1"
   ]
  },
  {
   "cell_type": "code",
   "execution_count": 3,
   "metadata": {},
   "outputs": [
    {
     "name": "stdout",
     "output_type": "stream",
     "text": [
      "1340\n",
      "1341\n"
     ]
    }
   ],
   "source": [
    "c1 = ShippingContainer('ESC', 'apple') \n",
    "print(c1.next_serial)\n",
    "\n",
    "c2 = ShippingContainer('ASG', 'banana')\n",
    "print(c2.next_serial)"
   ]
  },
  {
   "cell_type": "code",
   "execution_count": 5,
   "metadata": {},
   "outputs": [],
   "source": [
    "class ShippingContainer:\n",
    "    \n",
    "    next_serial = 1337\n",
    "    \n",
    "    def _get_next_serial(self): # self passed in but not referred in the method\n",
    "        result = ShippingContainer.next_serial\n",
    "        ShippingContainer.next_serial += 1\n",
    "        return result\n",
    "    \n",
    "    def __init__(self, owner_code, contents):\n",
    "        self.owner_code = owner_code\n",
    "        self.contents = contents\n",
    "        self.serial = self._get_next_serial()"
   ]
  },
  {
   "cell_type": "markdown",
   "metadata": {},
   "source": [
    "### static method"
   ]
  },
  {
   "cell_type": "code",
   "execution_count": 4,
   "metadata": {},
   "outputs": [],
   "source": [
    "class ShippingContainer:\n",
    "    \n",
    "    next_serial = 1337\n",
    "    \n",
    "    @staticmethod\n",
    "    def _get_next_serial(): # free function\n",
    "        result = ShippingContainer.next_serial\n",
    "        ShippingContainer.next_serial += 1\n",
    "        return result\n",
    "    \n",
    "    def __init__(self, owner_code, contents):\n",
    "        self.owner_code = owner_code\n",
    "        self.contents = contents\n",
    "        self.serial = ShippingContainer._get_next_serial()"
   ]
  },
  {
   "cell_type": "code",
   "execution_count": 5,
   "metadata": {},
   "outputs": [
    {
     "name": "stdout",
     "output_type": "stream",
     "text": [
      "1337\n",
      "1338\n"
     ]
    }
   ],
   "source": [
    "c3 = ShippingContainer('YML', 'peach')\n",
    "\n",
    "print(c3.serial)\n",
    "print(ShippingContainer.next_serial)"
   ]
  },
  {
   "cell_type": "markdown",
   "metadata": {},
   "source": [
    "### class method"
   ]
  },
  {
   "cell_type": "code",
   "execution_count": 8,
   "metadata": {},
   "outputs": [],
   "source": [
    "class ShippingContainer:\n",
    "    \n",
    "    next_serial = 1337\n",
    "    \n",
    "    @classmethod\n",
    "    def _get_next_serial(cls): \n",
    "        result = cls.next_serial\n",
    "        cls.next_serial += 1\n",
    "        return result\n",
    "    \n",
    "    @classmethod\n",
    "    def create_empty(cls, owner_code, *args, **kwargs):\n",
    "        return cls(owner_code, contents=None, *args, **kwargs)\n",
    "    \n",
    "    @classmethod\n",
    "    def create_with_items(cls, owner_code, items, *args, **kwargs):\n",
    "        return cls(owner_code, contents=list(items), *args, **kwargs)\n",
    "    \n",
    "    def __init__(self, owner_code, contents):\n",
    "        self.owner_code = owner_code\n",
    "        self.contents = contents\n",
    "        self.serial = ShippingContainer._get_next_serial()"
   ]
  },
  {
   "cell_type": "code",
   "execution_count": 9,
   "metadata": {},
   "outputs": [
    {
     "name": "stdout",
     "output_type": "stream",
     "text": [
      "['apple', 'pear']\n"
     ]
    }
   ],
   "source": [
    "c4 = ShippingContainer.create_with_items('MAR', ['apple', 'pear'])\n",
    "print(c4.contents)"
   ]
  },
  {
   "cell_type": "code",
   "execution_count": 10,
   "metadata": {},
   "outputs": [],
   "source": [
    "class RefrigeratedShippingContainer(ShippingContainer):\n",
    "    \n",
    "    MAX_CELSIUS = 4.0\n",
    "    \n",
    "    def __init__(self, owner_code, contents, celsius):\n",
    "        super().__init__(owner_code, contents) # must be called explicitly unlike in cpp\n",
    "        if celsius > RefrigeratedShippingContainer.MAX_CELSIUS:\n",
    "            raise ValueError('Temperature too high!')\n",
    "        self.celsius = celsius"
   ]
  },
  {
   "cell_type": "code",
   "execution_count": 11,
   "metadata": {},
   "outputs": [],
   "source": [
    "c5 = RefrigeratedShippingContainer.create_with_items('ESC', ['broccoli', 'cauliflowers'], celsius=2)"
   ]
  },
  {
   "cell_type": "markdown",
   "metadata": {},
   "source": [
    "### property method\n",
    "\n",
    "property method has converted celsius method into something when accessed behaves like an attribute."
   ]
  },
  {
   "cell_type": "code",
   "execution_count": 13,
   "metadata": {},
   "outputs": [],
   "source": [
    "class RefrigeratedShippingContainer(ShippingContainer):\n",
    "    \n",
    "    MAX_CELSIUS = 4.0\n",
    "    \n",
    "    def __init__(self, owner_code, contents, celsius):\n",
    "        super().__init__(owner_code, contents) # must be called explicitly unlike in cpp\n",
    "        if celsius > RefrigeratedShippingContainer.MAX_CELSIUS:\n",
    "            raise ValueError('Temperature too high!')\n",
    "        self._celsius = celsius # _celsius indicates that it should no longer be considered part of public interface\n",
    "    \n",
    "    @property\n",
    "    def celsius(self): # getter\n",
    "        return self._celsius"
   ]
  },
  {
   "cell_type": "code",
   "execution_count": 14,
   "metadata": {},
   "outputs": [
    {
     "data": {
      "text/plain": [
       "-18"
      ]
     },
     "execution_count": 14,
     "metadata": {},
     "output_type": "execute_result"
    }
   ],
   "source": [
    "r1 = RefrigeratedShippingContainer.create_with_items('YML', ['fish'], celsius=-18)\n",
    "r1.celsius"
   ]
  },
  {
   "cell_type": "code",
   "execution_count": 15,
   "metadata": {},
   "outputs": [],
   "source": [
    "class RefrigeratedShippingContainer(ShippingContainer):\n",
    "    \n",
    "    MAX_CELSIUS = 4.0\n",
    "    \n",
    "    def __init__(self, owner_code, contents, celsius):\n",
    "        super().__init__(owner_code, contents) # must be called explicitly unlike in cpp\n",
    "        if celsius > RefrigeratedShippingContainer.MAX_CELSIUS:\n",
    "            raise ValueError('Temperature too high!')\n",
    "        self._celsius = celsius # _celsius indicates that it should no longer be considered part of public interface\n",
    "    \n",
    "    @property\n",
    "    def celsius(self): # getter\n",
    "        return self._celsius\n",
    "    \n",
    "    @celsius.setter\n",
    "    def celsius(self, val): # setter\n",
    "        if val > RefrigeratedShippingContainer.MAX_CELSIUS:\n",
    "            raise ValueError('Temperature too high!')\n",
    "        self._celsius = val"
   ]
  },
  {
   "cell_type": "code",
   "execution_count": 17,
   "metadata": {},
   "outputs": [
    {
     "ename": "ValueError",
     "evalue": "Temperature too high!",
     "output_type": "error",
     "traceback": [
      "\u001b[1;31m---------------------------------------------------------------------------\u001b[0m",
      "\u001b[1;31mValueError\u001b[0m                                Traceback (most recent call last)",
      "\u001b[1;32m<ipython-input-17-37ae9eff77fd>\u001b[0m in \u001b[0;36m<module>\u001b[1;34m\u001b[0m\n\u001b[0;32m      1\u001b[0m \u001b[0mr2\u001b[0m \u001b[1;33m=\u001b[0m \u001b[0mRefrigeratedShippingContainer\u001b[0m\u001b[1;33m(\u001b[0m\u001b[1;34m'AIG'\u001b[0m\u001b[1;33m,\u001b[0m \u001b[1;34m'apples'\u001b[0m\u001b[1;33m,\u001b[0m \u001b[1;36m4\u001b[0m\u001b[1;33m)\u001b[0m\u001b[1;33m\u001b[0m\u001b[1;33m\u001b[0m\u001b[0m\n\u001b[1;32m----> 2\u001b[1;33m \u001b[0mr2\u001b[0m\u001b[1;33m.\u001b[0m\u001b[0mcelsius\u001b[0m \u001b[1;33m=\u001b[0m \u001b[1;36m5\u001b[0m\u001b[1;33m\u001b[0m\u001b[1;33m\u001b[0m\u001b[0m\n\u001b[0m",
      "\u001b[1;32m<ipython-input-15-d1f5fadbe21e>\u001b[0m in \u001b[0;36mcelsius\u001b[1;34m(self, val)\u001b[0m\n\u001b[0;32m     16\u001b[0m     \u001b[1;32mdef\u001b[0m \u001b[0mcelsius\u001b[0m\u001b[1;33m(\u001b[0m\u001b[0mself\u001b[0m\u001b[1;33m,\u001b[0m \u001b[0mval\u001b[0m\u001b[1;33m)\u001b[0m\u001b[1;33m:\u001b[0m \u001b[1;31m# setter\u001b[0m\u001b[1;33m\u001b[0m\u001b[1;33m\u001b[0m\u001b[0m\n\u001b[0;32m     17\u001b[0m         \u001b[1;32mif\u001b[0m \u001b[0mval\u001b[0m \u001b[1;33m>\u001b[0m \u001b[0mRefrigeratedShippingContainer\u001b[0m\u001b[1;33m.\u001b[0m\u001b[0mMAX_CELSIUS\u001b[0m\u001b[1;33m:\u001b[0m\u001b[1;33m\u001b[0m\u001b[1;33m\u001b[0m\u001b[0m\n\u001b[1;32m---> 18\u001b[1;33m             \u001b[1;32mraise\u001b[0m \u001b[0mValueError\u001b[0m\u001b[1;33m(\u001b[0m\u001b[1;34m'Temperature too high!'\u001b[0m\u001b[1;33m)\u001b[0m\u001b[1;33m\u001b[0m\u001b[1;33m\u001b[0m\u001b[0m\n\u001b[0m\u001b[0;32m     19\u001b[0m         \u001b[0mself\u001b[0m\u001b[1;33m.\u001b[0m\u001b[0m_celsius\u001b[0m \u001b[1;33m=\u001b[0m \u001b[0mval\u001b[0m\u001b[1;33m\u001b[0m\u001b[1;33m\u001b[0m\u001b[0m\n",
      "\u001b[1;31mValueError\u001b[0m: Temperature too high!"
     ]
    }
   ],
   "source": [
    "r2 = RefrigeratedShippingContainer('AIG', 'apples', 4)\n",
    "r2.celsius = 5"
   ]
  },
  {
   "cell_type": "code",
   "execution_count": 21,
   "metadata": {},
   "outputs": [],
   "source": [
    "class RefrigeratedShippingContainer(ShippingContainer):\n",
    "    \n",
    "    MAX_CELSIUS = 4.0\n",
    "    \n",
    "    @staticmethod\n",
    "    def _c_to_f(celsius):\n",
    "        return celsius * 9/5. + 32\n",
    "    \n",
    "    @staticmethod\n",
    "    def _f_to_c(fahrenheit):\n",
    "        return (fahrenheit - 32) * 5./9\n",
    "    \n",
    "    def __init__(self, owner_code, contents, celsius):\n",
    "        super().__init__(owner_code, contents) # must be called explicitly unlike in cpp\n",
    "        if celsius > RefrigeratedShippingContainer.MAX_CELSIUS:\n",
    "            raise ValueError('Temperature too high!')\n",
    "        self.celsius = celsius \n",
    "    \n",
    "    @property\n",
    "    def celsius(self): # getter\n",
    "        return self._celsius\n",
    "    \n",
    "    @celsius.setter\n",
    "    def celsius(self, val): # setter\n",
    "        if val > RefrigeratedShippingContainer.MAX_CELSIUS:\n",
    "            raise ValueError('Temperature too high!')\n",
    "        self._celsius = val\n",
    "        \n",
    "    @property\n",
    "    def fahrenheit(self):\n",
    "        return RefrigeratedShippingContainer._c_to_f(self.celsius)\n",
    "        \n",
    "    @fahrenheit.setter\n",
    "    def fahrenheit(self, val):\n",
    "        self.celsius = RefrigeratedShippingContainer._f_to_c(val)"
   ]
  },
  {
   "cell_type": "code",
   "execution_count": 22,
   "metadata": {},
   "outputs": [
    {
     "name": "stdout",
     "output_type": "stream",
     "text": [
      "-4\n",
      "24.8\n",
      "-23.333333333333332\n"
     ]
    }
   ],
   "source": [
    "r3 = RefrigeratedShippingContainer.create_empty('AIG', celsius=-4)\n",
    "print(r3.celsius)\n",
    "print(r3.fahrenheit)\n",
    "\n",
    "r3.fahrenheit = -10\n",
    "print(r3.celsius)"
   ]
  },
  {
   "cell_type": "code",
   "execution_count": null,
   "metadata": {},
   "outputs": [],
   "source": []
  },
  {
   "cell_type": "code",
   "execution_count": 23,
   "metadata": {},
   "outputs": [],
   "source": [
    "class ShippingContainer:\n",
    "    \n",
    "    next_serial = 1337\n",
    "    WEIGHT_FT = 8\n",
    "    HEIGHT_FT = 8.5\n",
    "    \n",
    "    @classmethod\n",
    "    def _get_next_serial(cls): \n",
    "        result = cls.next_serial\n",
    "        cls.next_serial += 1\n",
    "        return result\n",
    "    \n",
    "    @classmethod\n",
    "    def create_empty(cls, owner_code, length_ft, *args, **kwargs):\n",
    "        return cls(owner_code, length_ft, contents=None, *args, **kwargs)\n",
    "    \n",
    "    @classmethod\n",
    "    def create_with_items(cls, owner_code, length_ft, items, *args, **kwargs):\n",
    "        return cls(owner_code, length_ft, contents=list(items), *args, **kwargs)\n",
    "    \n",
    "    def __init__(self, owner_code, length_ft, contents):\n",
    "        self.owner_code = owner_code\n",
    "        self.length_ft = length_ft\n",
    "        self.contents = contents\n",
    "        self.serial = ShippingContainer._get_next_serial()\n",
    "        \n",
    "    @property\n",
    "    def volume_ft3(self):\n",
    "        return ShippingContainer.WEIGHT_FT * ShippingContainer.HEIGHT_FT * self.length_ft"
   ]
  },
  {
   "cell_type": "code",
   "execution_count": 24,
   "metadata": {},
   "outputs": [
    {
     "data": {
      "text/plain": [
       "1360.0"
      ]
     },
     "execution_count": 24,
     "metadata": {},
     "output_type": "execute_result"
    }
   ],
   "source": [
    "c = ShippingContainer.create_empty('JPM', 20)\n",
    "c.volume_ft3"
   ]
  },
  {
   "cell_type": "code",
   "execution_count": 29,
   "metadata": {},
   "outputs": [],
   "source": [
    "class RefrigeratedShippingContainer(ShippingContainer):\n",
    "    \n",
    "    MAX_CELSIUS = 4.0\n",
    "    \n",
    "    FRIDGE_VOLUME_FT3 = 100\n",
    "    \n",
    "    @staticmethod\n",
    "    def _c_to_f(celsius):\n",
    "        return celsius * 9/5. + 32\n",
    "    \n",
    "    @staticmethod\n",
    "    def _f_to_c(fahrenheit):\n",
    "        return (fahrenheit - 32) * 5./9\n",
    "    \n",
    "    def __init__(self, owner_code, length_ft, contents, celsius):\n",
    "        super().__init__(owner_code, length_ft, contents) # must be called explicitly unlike in cpp\n",
    "        if celsius > RefrigeratedShippingContainer.MAX_CELSIUS:\n",
    "            raise ValueError('Temperature too high!')\n",
    "        self.celsius = celsius \n",
    "    \n",
    "    @property\n",
    "    def celsius(self): # getter\n",
    "        return self._celsius\n",
    "    \n",
    "    @celsius.setter\n",
    "    def celsius(self, val): # setter\n",
    "        if val > RefrigeratedShippingContainer.MAX_CELSIUS:\n",
    "            raise ValueError('Temperature too high!')\n",
    "        self._celsius = val\n",
    "        \n",
    "    @property\n",
    "    def fahrenheit(self):\n",
    "        return RefrigeratedShippingContainer._c_to_f(self.celsius)\n",
    "        \n",
    "    @fahrenheit.setter\n",
    "    def fahrenheit(self, val):\n",
    "        self.celsius = RefrigeratedShippingContainer._f_to_c(val)\n",
    "        \n",
    "    @property\n",
    "    def volume_ft3(self):\n",
    "        return super().volume_ft3 - RefrigeratedShippingContainer.FRIDGE_VOLUME_FT3"
   ]
  },
  {
   "cell_type": "code",
   "execution_count": 30,
   "metadata": {},
   "outputs": [
    {
     "data": {
      "text/plain": [
       "1260.0"
      ]
     },
     "execution_count": 30,
     "metadata": {},
     "output_type": "execute_result"
    }
   ],
   "source": [
    "r = RefrigeratedShippingContainer.create_empty('JPM', length_ft=20, celsius=-10)\n",
    "r.volume_ft3"
   ]
  },
  {
   "cell_type": "code",
   "execution_count": 31,
   "metadata": {},
   "outputs": [],
   "source": [
    "class HeaterRefrigeratedShippingContainer(RefrigeratedShippingContainer):\n",
    "    \n",
    "    MIN_CELSIUS = -20.0\n",
    "    \n",
    "    @RefrigeratedShippingContainer.celsius.setter\n",
    "    def celsius(self, value):\n",
    "        if not (HeaterRefrigeratedShippingContainer.MIN_CELSIUS <= value <= RefrigeratedShippingContainer.MAX_CELSIUS):\n",
    "            raise ValueError('Temperature wrong!')\n",
    "        self._celsius = value"
   ]
  },
  {
   "cell_type": "code",
   "execution_count": 32,
   "metadata": {},
   "outputs": [
    {
     "ename": "ValueError",
     "evalue": "Temperature wrong!",
     "output_type": "error",
     "traceback": [
      "\u001b[1;31m---------------------------------------------------------------------------\u001b[0m",
      "\u001b[1;31mValueError\u001b[0m                                Traceback (most recent call last)",
      "\u001b[1;32m<ipython-input-32-449eb8e559cb>\u001b[0m in \u001b[0;36m<module>\u001b[1;34m\u001b[0m\n\u001b[0;32m      1\u001b[0m \u001b[0mh\u001b[0m \u001b[1;33m=\u001b[0m \u001b[0mHeaterRefrigeratedShippingContainer\u001b[0m\u001b[1;33m.\u001b[0m\u001b[0mcreate_empty\u001b[0m\u001b[1;33m(\u001b[0m\u001b[1;34m'JPM'\u001b[0m\u001b[1;33m,\u001b[0m \u001b[0mlength_ft\u001b[0m\u001b[1;33m=\u001b[0m\u001b[1;36m20\u001b[0m\u001b[1;33m,\u001b[0m \u001b[0mcelsius\u001b[0m\u001b[1;33m=\u001b[0m\u001b[1;33m-\u001b[0m\u001b[1;36m10\u001b[0m\u001b[1;33m)\u001b[0m\u001b[1;33m\u001b[0m\u001b[1;33m\u001b[0m\u001b[0m\n\u001b[1;32m----> 2\u001b[1;33m \u001b[0mh\u001b[0m\u001b[1;33m.\u001b[0m\u001b[0mcelsius\u001b[0m \u001b[1;33m=\u001b[0m \u001b[1;33m-\u001b[0m\u001b[1;36m30\u001b[0m\u001b[1;33m\u001b[0m\u001b[1;33m\u001b[0m\u001b[0m\n\u001b[0m",
      "\u001b[1;32m<ipython-input-31-0c2d0dd1bb50>\u001b[0m in \u001b[0;36mcelsius\u001b[1;34m(self, value)\u001b[0m\n\u001b[0;32m      6\u001b[0m     \u001b[1;32mdef\u001b[0m \u001b[0mcelsius\u001b[0m\u001b[1;33m(\u001b[0m\u001b[0mself\u001b[0m\u001b[1;33m,\u001b[0m \u001b[0mvalue\u001b[0m\u001b[1;33m)\u001b[0m\u001b[1;33m:\u001b[0m\u001b[1;33m\u001b[0m\u001b[1;33m\u001b[0m\u001b[0m\n\u001b[0;32m      7\u001b[0m         \u001b[1;32mif\u001b[0m \u001b[1;32mnot\u001b[0m \u001b[1;33m(\u001b[0m\u001b[0mHeaterRefrigeratedShippingContainer\u001b[0m\u001b[1;33m.\u001b[0m\u001b[0mMIN_CELSIUS\u001b[0m \u001b[1;33m<=\u001b[0m \u001b[0mvalue\u001b[0m \u001b[1;33m<=\u001b[0m \u001b[0mRefrigeratedShippingContainer\u001b[0m\u001b[1;33m.\u001b[0m\u001b[0mMAX_CELSIUS\u001b[0m\u001b[1;33m)\u001b[0m\u001b[1;33m:\u001b[0m\u001b[1;33m\u001b[0m\u001b[1;33m\u001b[0m\u001b[0m\n\u001b[1;32m----> 8\u001b[1;33m             \u001b[1;32mraise\u001b[0m \u001b[0mValueError\u001b[0m\u001b[1;33m(\u001b[0m\u001b[1;34m'Temperature wrong!'\u001b[0m\u001b[1;33m)\u001b[0m\u001b[1;33m\u001b[0m\u001b[1;33m\u001b[0m\u001b[0m\n\u001b[0m\u001b[0;32m      9\u001b[0m         \u001b[0mself\u001b[0m\u001b[1;33m.\u001b[0m\u001b[0m_celsius\u001b[0m \u001b[1;33m=\u001b[0m \u001b[0mvalue\u001b[0m\u001b[1;33m\u001b[0m\u001b[1;33m\u001b[0m\u001b[0m\n",
      "\u001b[1;31mValueError\u001b[0m: Temperature wrong!"
     ]
    }
   ],
   "source": [
    "h = HeaterRefrigeratedShippingContainer.create_empty('JPM', length_ft=20, celsius=-10)\n",
    "h.celsius = -30"
   ]
  },
  {
   "cell_type": "code",
   "execution_count": 33,
   "metadata": {},
   "outputs": [],
   "source": [
    "class HeaterRefrigeratedShippingContainer(RefrigeratedShippingContainer):\n",
    "    \n",
    "    MIN_CELSIUS = -20.0\n",
    "    \n",
    "    @RefrigeratedShippingContainer.celsius.setter\n",
    "    def celsius(self, value):\n",
    "        if HeaterRefrigeratedShippingContainer.MIN_CELSIUS > value:\n",
    "            raise ValueError('Temperature too cold!')\n",
    "        super().celsius(value)"
   ]
  },
  {
   "cell_type": "code",
   "execution_count": 34,
   "metadata": {},
   "outputs": [
    {
     "ename": "AttributeError",
     "evalue": "'HeaterRefrigeratedShippingContainer' object has no attribute '_celsius'",
     "output_type": "error",
     "traceback": [
      "\u001b[1;31m---------------------------------------------------------------------------\u001b[0m",
      "\u001b[1;31mAttributeError\u001b[0m                            Traceback (most recent call last)",
      "\u001b[1;32m<ipython-input-34-449eb8e559cb>\u001b[0m in \u001b[0;36m<module>\u001b[1;34m\u001b[0m\n\u001b[1;32m----> 1\u001b[1;33m \u001b[0mh\u001b[0m \u001b[1;33m=\u001b[0m \u001b[0mHeaterRefrigeratedShippingContainer\u001b[0m\u001b[1;33m.\u001b[0m\u001b[0mcreate_empty\u001b[0m\u001b[1;33m(\u001b[0m\u001b[1;34m'JPM'\u001b[0m\u001b[1;33m,\u001b[0m \u001b[0mlength_ft\u001b[0m\u001b[1;33m=\u001b[0m\u001b[1;36m20\u001b[0m\u001b[1;33m,\u001b[0m \u001b[0mcelsius\u001b[0m\u001b[1;33m=\u001b[0m\u001b[1;33m-\u001b[0m\u001b[1;36m10\u001b[0m\u001b[1;33m)\u001b[0m\u001b[1;33m\u001b[0m\u001b[1;33m\u001b[0m\u001b[0m\n\u001b[0m\u001b[0;32m      2\u001b[0m \u001b[0mh\u001b[0m\u001b[1;33m.\u001b[0m\u001b[0mcelsius\u001b[0m \u001b[1;33m=\u001b[0m \u001b[1;33m-\u001b[0m\u001b[1;36m30\u001b[0m\u001b[1;33m\u001b[0m\u001b[1;33m\u001b[0m\u001b[0m\n",
      "\u001b[1;32m<ipython-input-23-c1418e8f96a4>\u001b[0m in \u001b[0;36mcreate_empty\u001b[1;34m(cls, owner_code, length_ft, *args, **kwargs)\u001b[0m\n\u001b[0;32m     13\u001b[0m     \u001b[1;33m@\u001b[0m\u001b[0mclassmethod\u001b[0m\u001b[1;33m\u001b[0m\u001b[1;33m\u001b[0m\u001b[0m\n\u001b[0;32m     14\u001b[0m     \u001b[1;32mdef\u001b[0m \u001b[0mcreate_empty\u001b[0m\u001b[1;33m(\u001b[0m\u001b[0mcls\u001b[0m\u001b[1;33m,\u001b[0m \u001b[0mowner_code\u001b[0m\u001b[1;33m,\u001b[0m \u001b[0mlength_ft\u001b[0m\u001b[1;33m,\u001b[0m \u001b[1;33m*\u001b[0m\u001b[0margs\u001b[0m\u001b[1;33m,\u001b[0m \u001b[1;33m**\u001b[0m\u001b[0mkwargs\u001b[0m\u001b[1;33m)\u001b[0m\u001b[1;33m:\u001b[0m\u001b[1;33m\u001b[0m\u001b[1;33m\u001b[0m\u001b[0m\n\u001b[1;32m---> 15\u001b[1;33m         \u001b[1;32mreturn\u001b[0m \u001b[0mcls\u001b[0m\u001b[1;33m(\u001b[0m\u001b[0mowner_code\u001b[0m\u001b[1;33m,\u001b[0m \u001b[0mlength_ft\u001b[0m\u001b[1;33m,\u001b[0m \u001b[0mcontents\u001b[0m\u001b[1;33m=\u001b[0m\u001b[1;32mNone\u001b[0m\u001b[1;33m,\u001b[0m \u001b[1;33m*\u001b[0m\u001b[0margs\u001b[0m\u001b[1;33m,\u001b[0m \u001b[1;33m**\u001b[0m\u001b[0mkwargs\u001b[0m\u001b[1;33m)\u001b[0m\u001b[1;33m\u001b[0m\u001b[1;33m\u001b[0m\u001b[0m\n\u001b[0m\u001b[0;32m     16\u001b[0m \u001b[1;33m\u001b[0m\u001b[0m\n\u001b[0;32m     17\u001b[0m     \u001b[1;33m@\u001b[0m\u001b[0mclassmethod\u001b[0m\u001b[1;33m\u001b[0m\u001b[1;33m\u001b[0m\u001b[0m\n",
      "\u001b[1;32m<ipython-input-29-c29489b0e3f6>\u001b[0m in \u001b[0;36m__init__\u001b[1;34m(self, owner_code, length_ft, contents, celsius)\u001b[0m\n\u001b[0;32m     17\u001b[0m         \u001b[1;32mif\u001b[0m \u001b[0mcelsius\u001b[0m \u001b[1;33m>\u001b[0m \u001b[0mRefrigeratedShippingContainer\u001b[0m\u001b[1;33m.\u001b[0m\u001b[0mMAX_CELSIUS\u001b[0m\u001b[1;33m:\u001b[0m\u001b[1;33m\u001b[0m\u001b[1;33m\u001b[0m\u001b[0m\n\u001b[0;32m     18\u001b[0m             \u001b[1;32mraise\u001b[0m \u001b[0mValueError\u001b[0m\u001b[1;33m(\u001b[0m\u001b[1;34m'Temperature too high!'\u001b[0m\u001b[1;33m)\u001b[0m\u001b[1;33m\u001b[0m\u001b[1;33m\u001b[0m\u001b[0m\n\u001b[1;32m---> 19\u001b[1;33m         \u001b[0mself\u001b[0m\u001b[1;33m.\u001b[0m\u001b[0mcelsius\u001b[0m \u001b[1;33m=\u001b[0m \u001b[0mcelsius\u001b[0m\u001b[1;33m\u001b[0m\u001b[1;33m\u001b[0m\u001b[0m\n\u001b[0m\u001b[0;32m     20\u001b[0m \u001b[1;33m\u001b[0m\u001b[0m\n\u001b[0;32m     21\u001b[0m     \u001b[1;33m@\u001b[0m\u001b[0mproperty\u001b[0m\u001b[1;33m\u001b[0m\u001b[1;33m\u001b[0m\u001b[0m\n",
      "\u001b[1;32m<ipython-input-33-89bd5d5a0798>\u001b[0m in \u001b[0;36mcelsius\u001b[1;34m(self, value)\u001b[0m\n\u001b[0;32m      7\u001b[0m         \u001b[1;32mif\u001b[0m \u001b[0mHeaterRefrigeratedShippingContainer\u001b[0m\u001b[1;33m.\u001b[0m\u001b[0mMIN_CELSIUS\u001b[0m \u001b[1;33m>\u001b[0m \u001b[0mvalue\u001b[0m\u001b[1;33m:\u001b[0m\u001b[1;33m\u001b[0m\u001b[1;33m\u001b[0m\u001b[0m\n\u001b[0;32m      8\u001b[0m             \u001b[1;32mraise\u001b[0m \u001b[0mValueError\u001b[0m\u001b[1;33m(\u001b[0m\u001b[1;34m'Temperature too cold!'\u001b[0m\u001b[1;33m)\u001b[0m\u001b[1;33m\u001b[0m\u001b[1;33m\u001b[0m\u001b[0m\n\u001b[1;32m----> 9\u001b[1;33m         \u001b[0msuper\u001b[0m\u001b[1;33m(\u001b[0m\u001b[1;33m)\u001b[0m\u001b[1;33m.\u001b[0m\u001b[0mcelsius\u001b[0m\u001b[1;33m(\u001b[0m\u001b[0mvalue\u001b[0m\u001b[1;33m)\u001b[0m\u001b[1;33m\u001b[0m\u001b[1;33m\u001b[0m\u001b[0m\n\u001b[0m",
      "\u001b[1;32m<ipython-input-29-c29489b0e3f6>\u001b[0m in \u001b[0;36mcelsius\u001b[1;34m(self)\u001b[0m\n\u001b[0;32m     21\u001b[0m     \u001b[1;33m@\u001b[0m\u001b[0mproperty\u001b[0m\u001b[1;33m\u001b[0m\u001b[1;33m\u001b[0m\u001b[0m\n\u001b[0;32m     22\u001b[0m     \u001b[1;32mdef\u001b[0m \u001b[0mcelsius\u001b[0m\u001b[1;33m(\u001b[0m\u001b[0mself\u001b[0m\u001b[1;33m)\u001b[0m\u001b[1;33m:\u001b[0m \u001b[1;31m# getter\u001b[0m\u001b[1;33m\u001b[0m\u001b[1;33m\u001b[0m\u001b[0m\n\u001b[1;32m---> 23\u001b[1;33m         \u001b[1;32mreturn\u001b[0m \u001b[0mself\u001b[0m\u001b[1;33m.\u001b[0m\u001b[0m_celsius\u001b[0m\u001b[1;33m\u001b[0m\u001b[1;33m\u001b[0m\u001b[0m\n\u001b[0m\u001b[0;32m     24\u001b[0m \u001b[1;33m\u001b[0m\u001b[0m\n\u001b[0;32m     25\u001b[0m     \u001b[1;33m@\u001b[0m\u001b[0mcelsius\u001b[0m\u001b[1;33m.\u001b[0m\u001b[0msetter\u001b[0m\u001b[1;33m\u001b[0m\u001b[1;33m\u001b[0m\u001b[0m\n",
      "\u001b[1;31mAttributeError\u001b[0m: 'HeaterRefrigeratedShippingContainer' object has no attribute '_celsius'"
     ]
    }
   ],
   "source": [
    "h = HeaterRefrigeratedShippingContainer.create_empty('JPM', length_ft=20, celsius=-10)\n",
    "h.celsius = -30"
   ]
  },
  {
   "cell_type": "code",
   "execution_count": 35,
   "metadata": {},
   "outputs": [],
   "source": [
    "class HeaterRefrigeratedShippingContainer(RefrigeratedShippingContainer):\n",
    "    \n",
    "    MIN_CELSIUS = -20.0\n",
    "    \n",
    "    @RefrigeratedShippingContainer.celsius.setter\n",
    "    def celsius(self, value):\n",
    "        if HeaterRefrigeratedShippingContainer.MIN_CELSIUS > value:\n",
    "            raise ValueError('Temperature too cold!')\n",
    "        RefrigeratedShippingContainer.celsius.fset(self, value)"
   ]
  },
  {
   "cell_type": "code",
   "execution_count": 36,
   "metadata": {},
   "outputs": [
    {
     "ename": "ValueError",
     "evalue": "Temperature too cold!",
     "output_type": "error",
     "traceback": [
      "\u001b[1;31m---------------------------------------------------------------------------\u001b[0m",
      "\u001b[1;31mValueError\u001b[0m                                Traceback (most recent call last)",
      "\u001b[1;32m<ipython-input-36-449eb8e559cb>\u001b[0m in \u001b[0;36m<module>\u001b[1;34m\u001b[0m\n\u001b[0;32m      1\u001b[0m \u001b[0mh\u001b[0m \u001b[1;33m=\u001b[0m \u001b[0mHeaterRefrigeratedShippingContainer\u001b[0m\u001b[1;33m.\u001b[0m\u001b[0mcreate_empty\u001b[0m\u001b[1;33m(\u001b[0m\u001b[1;34m'JPM'\u001b[0m\u001b[1;33m,\u001b[0m \u001b[0mlength_ft\u001b[0m\u001b[1;33m=\u001b[0m\u001b[1;36m20\u001b[0m\u001b[1;33m,\u001b[0m \u001b[0mcelsius\u001b[0m\u001b[1;33m=\u001b[0m\u001b[1;33m-\u001b[0m\u001b[1;36m10\u001b[0m\u001b[1;33m)\u001b[0m\u001b[1;33m\u001b[0m\u001b[1;33m\u001b[0m\u001b[0m\n\u001b[1;32m----> 2\u001b[1;33m \u001b[0mh\u001b[0m\u001b[1;33m.\u001b[0m\u001b[0mcelsius\u001b[0m \u001b[1;33m=\u001b[0m \u001b[1;33m-\u001b[0m\u001b[1;36m30\u001b[0m\u001b[1;33m\u001b[0m\u001b[1;33m\u001b[0m\u001b[0m\n\u001b[0m",
      "\u001b[1;32m<ipython-input-35-2808a830871b>\u001b[0m in \u001b[0;36mcelsius\u001b[1;34m(self, value)\u001b[0m\n\u001b[0;32m      6\u001b[0m     \u001b[1;32mdef\u001b[0m \u001b[0mcelsius\u001b[0m\u001b[1;33m(\u001b[0m\u001b[0mself\u001b[0m\u001b[1;33m,\u001b[0m \u001b[0mvalue\u001b[0m\u001b[1;33m)\u001b[0m\u001b[1;33m:\u001b[0m\u001b[1;33m\u001b[0m\u001b[1;33m\u001b[0m\u001b[0m\n\u001b[0;32m      7\u001b[0m         \u001b[1;32mif\u001b[0m \u001b[0mHeaterRefrigeratedShippingContainer\u001b[0m\u001b[1;33m.\u001b[0m\u001b[0mMIN_CELSIUS\u001b[0m \u001b[1;33m>\u001b[0m \u001b[0mvalue\u001b[0m\u001b[1;33m:\u001b[0m\u001b[1;33m\u001b[0m\u001b[1;33m\u001b[0m\u001b[0m\n\u001b[1;32m----> 8\u001b[1;33m             \u001b[1;32mraise\u001b[0m \u001b[0mValueError\u001b[0m\u001b[1;33m(\u001b[0m\u001b[1;34m'Temperature too cold!'\u001b[0m\u001b[1;33m)\u001b[0m\u001b[1;33m\u001b[0m\u001b[1;33m\u001b[0m\u001b[0m\n\u001b[0m\u001b[0;32m      9\u001b[0m         \u001b[0mRefrigeratedShippingContainer\u001b[0m\u001b[1;33m.\u001b[0m\u001b[0mcelsius\u001b[0m\u001b[1;33m.\u001b[0m\u001b[0mfset\u001b[0m\u001b[1;33m(\u001b[0m\u001b[0mself\u001b[0m\u001b[1;33m,\u001b[0m \u001b[0mvalue\u001b[0m\u001b[1;33m)\u001b[0m\u001b[1;33m\u001b[0m\u001b[1;33m\u001b[0m\u001b[0m\n",
      "\u001b[1;31mValueError\u001b[0m: Temperature too cold!"
     ]
    }
   ],
   "source": [
    "h = HeaterRefrigeratedShippingContainer.create_empty('JPM', length_ft=20, celsius=-10)\n",
    "h.celsius = -30"
   ]
  },
  {
   "cell_type": "markdown",
   "metadata": {},
   "source": [
    "Introduce another level of indirection by method _calc_volume"
   ]
  },
  {
   "cell_type": "code",
   "execution_count": null,
   "metadata": {},
   "outputs": [],
   "source": [
    "class ShippingContainer:\n",
    "    \n",
    "    next_serial = 1337\n",
    "    WEIGHT_FT = 8\n",
    "    HEIGHT_FT = 8.5\n",
    "    \n",
    "    @classmethod\n",
    "    def _get_next_serial(cls): \n",
    "        result = cls.next_serial\n",
    "        cls.next_serial += 1\n",
    "        return result\n",
    "    \n",
    "    @classmethod\n",
    "    def create_empty(cls, owner_code, length_ft, *args, **kwargs):\n",
    "        return cls(owner_code, length_ft, contents=None, *args, **kwargs)\n",
    "    \n",
    "    @classmethod\n",
    "    def create_with_items(cls, owner_code, length_ft, items, *args, **kwargs):\n",
    "        return cls(owner_code, length_ft, contents=list(items), *args, **kwargs)\n",
    "    \n",
    "    def __init__(self, owner_code, length_ft, contents):\n",
    "        self.owner_code = owner_code\n",
    "        self.length_ft = length_ft\n",
    "        self.contents = contents\n",
    "        self.serial = ShippingContainer._get_next_serial()\n",
    "    \n",
    "    def _calc_volume(self):\n",
    "        return ShippingContainer.WEIGHT_FT * ShippingContainer.HEIGHT_FT * self.length_ft\n",
    "        \n",
    "    @property\n",
    "    def volume_ft3(self):\n",
    "        return self._calc_volume()\n",
    "    \n",
    "class RefrigeratedShippingContainer(ShippingContainer):\n",
    "    \n",
    "    MAX_CELSIUS = 4.0\n",
    "    \n",
    "    FRIDGE_VOLUME_FT3 = 100\n",
    "    \n",
    "    @staticmethod\n",
    "    def _c_to_f(celsius):\n",
    "        return celsius * 9/5. + 32\n",
    "    \n",
    "    @staticmethod\n",
    "    def _f_to_c(fahrenheit):\n",
    "        return (fahrenheit - 32) * 5./9\n",
    "    \n",
    "    def __init__(self, owner_code, length_ft, contents, celsius):\n",
    "        super().__init__(owner_code, length_ft, contents) # must be called explicitly unlike in cpp\n",
    "        if celsius > RefrigeratedShippingContainer.MAX_CELSIUS:\n",
    "            raise ValueError('Temperature too high!')\n",
    "        self.celsius = celsius \n",
    "    \n",
    "    @property\n",
    "    def celsius(self): # getter\n",
    "        return self._celsius\n",
    "    \n",
    "    @celsius.setter\n",
    "    def celsius(self, val): # setter\n",
    "        if val > RefrigeratedShippingContainer.MAX_CELSIUS:\n",
    "            raise ValueError('Temperature too high!')\n",
    "        self._celsius = val\n",
    "        \n",
    "    @property\n",
    "    def fahrenheit(self):\n",
    "        return RefrigeratedShippingContainer._c_to_f(self.celsius)\n",
    "        \n",
    "    @fahrenheit.setter\n",
    "    def fahrenheit(self, val):\n",
    "        self.celsius = RefrigeratedShippingContainer._f_to_c(val)\n",
    "        \n",
    "    \n",
    "    def _calc_volume(self):\n",
    "        return super()._calc_volume() - RefrigeratedShippingContainer.FRIDGE_VOLUME_FT3"
   ]
  }
 ],
 "metadata": {
  "kernelspec": {
   "display_name": "Python 3",
   "language": "python",
   "name": "python3"
  },
  "language_info": {
   "codemirror_mode": {
    "name": "ipython",
    "version": 3
   },
   "file_extension": ".py",
   "mimetype": "text/x-python",
   "name": "python",
   "nbconvert_exporter": "python",
   "pygments_lexer": "ipython3",
   "version": "3.7.4"
  }
 },
 "nbformat": 4,
 "nbformat_minor": 2
}
